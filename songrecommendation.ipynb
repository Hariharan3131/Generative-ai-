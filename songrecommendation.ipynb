{
  "nbformat": 4,
  "nbformat_minor": 0,
  "metadata": {
    "colab": {
      "provenance": [],
      "gpuType": "V28"
    },
    "kernelspec": {
      "name": "python3",
      "display_name": "Python 3"
    },
    "language_info": {
      "name": "python"
    },
    "accelerator": "TPU"
  },
  "cells": [
    {
      "cell_type": "code",
      "source": [
        "import pandas as pd\n",
        "from sklearn.feature_extraction.text import TfidfVectorizer\n",
        "from sklearn.metrics.pairwise import cosine_similarity\n",
        "\n",
        "class ContentBasedRecommender:\n",
        "    def __init__(self, songs_data):\n",
        "        self.songs_data = songs_data\n",
        "\n",
        "    def recommend(self, song_index, number_songs, mood):\n",
        "        # Check if song index is valid\n",
        "        if song_index >= len(self.songs_data):\n",
        "            print(f\"Error: Invalid song index {song_index}.\")\n",
        "            return\n",
        "\n",
        "        # Get song data\n",
        "        song_data = self.songs_data.iloc[song_index]\n",
        "        song_text = [song_data['text']]\n",
        "\n",
        "        # Filter songs based on mood\n",
        "        mood_based_songs = self.songs_data[self.songs_data['mood'] == mood]\n",
        "\n",
        "        print(f\"Number of songs with mood '{mood}': {len(mood_based_songs)}\")\n",
        "\n",
        "        if mood_based_songs.empty:\n",
        "            print(f\"Sorry, no recommendations available for the mood '{mood}'.\")\n",
        "            return\n",
        "\n",
        "        # Calculate TF-IDF matrix for mood-based songs\n",
        "        tfidf = TfidfVectorizer(analyzer='word', stop_words='english')\n",
        "        mood_lyrics_matrix = tfidf.fit_transform(mood_based_songs['text'])\n",
        "\n",
        "        # Compute cosine similarity between the given song and mood-based songs\n",
        "        cosine_similarities = cosine_similarity(tfidf.transform(song_text), mood_lyrics_matrix)\n",
        "\n",
        "        # Get indices of similar songs sorted by similarity score\n",
        "        similar_song_indices = cosine_similarities.argsort()[0][::-1]\n",
        "\n",
        "        # Print recommended songs\n",
        "        print(f\"The {number_songs} recommended songs for '{song_data['song']}' based on mood '{mood}' are:\")\n",
        "        for idx in similar_song_indices[:number_songs]:\n",
        "            recommended_song = mood_based_songs.iloc[idx]\n",
        "            print(f\"Title: {recommended_song['song']}\")\n",
        "            print(f\"Artist: {recommended_song['artist']}\")\n",
        "            print(f\"Similarity Score: {cosine_similarities[0][idx]}\")\n",
        "            print(\"--------------------\")\n",
        "\n",
        "# Load songs data\n",
        "songs = pd.read_csv('/content/drive/MyDrive/songdata2.csv')\n",
        "songs = songs.dropna(subset=['text', 'mood']).reset_index(drop=True)  # Drop rows with missing values for 'text' and 'mood'\n",
        "songs['text'] = songs['text'].str.replace(r'\\n', '')\n",
        "\n",
        "# Function to handle user input for mood\n",
        "def get_user_mood():\n",
        "    while True:\n",
        "        mood = input(\"Enter your mood (Happy, Sad, Depression, Fear, Disgust, Surprise): \").strip().title()\n",
        "        if mood in ['Happy', 'Sad', 'Depression', 'Fear', 'Disgust', 'Surprise']:\n",
        "            return mood\n",
        "        print(\"Invalid mood. Please enter one of the following moods: Happy, Sad, Depression, Fear, Disgust, Surprise.\")\n",
        "\n",
        "# Example usage\n",
        "recommender = ContentBasedRecommender(songs)\n",
        "song_index = 10  # Example song index\n",
        "number_songs = 4  # Number of songs to recommend\n",
        "user_mood = get_user_mood()  # Ask user for mood input\n",
        "recommender.recommend(song_index, number_songs, user_mood)\n"
      ],
      "metadata": {
        "colab": {
          "base_uri": "https://localhost:8080/"
        },
        "id": "cRoEZ15aGjvL",
        "outputId": "a843ba2b-5b49-4f98-be51-7ec6ba0d91ab"
      },
      "execution_count": 1,
      "outputs": [
        {
          "output_type": "stream",
          "name": "stdout",
          "text": [
            "Enter your mood (Happy, Sad, Depression, Fear, Disgust, Surprise): Happy\n",
            "Number of songs with mood 'Happy': 9609\n",
            "The 4 recommended songs for 'Dance' based on mood 'Happy' are:\n",
            "Title: I'm Not Gonna Teach Your Boyfriend How To Dance With You\n",
            "Artist: Glee\n",
            "Similarity Score: 0.5835943676475538\n",
            "--------------------\n",
            "Title: Stars Dance\n",
            "Artist: Selena Gomez\n",
            "Similarity Score: 0.5351495413599702\n",
            "--------------------\n",
            "Title: Dance\n",
            "Artist: Gary Numan\n",
            "Similarity Score: 0.5324418034247954\n",
            "--------------------\n",
            "Title: Can't Stop The Feeling!\n",
            "Artist: Justin Timberlake\n",
            "Similarity Score: 0.5303605008798756\n",
            "--------------------\n"
          ]
        }
      ]
    }
  ]
}